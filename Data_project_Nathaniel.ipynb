{
 "cells": [
  {
   "cell_type": "markdown",
   "id": "f9e1485c-73cc-469b-a2af-19f0757f2289",
   "metadata": {},
   "source": [
    "# Data project.\n",
    "### gjord av Nathaniel\n",
    " - Ai\n",
    " - visualisera datan\n",
    " - utvärdera datan"
   ]
  },
  {
   "cell_type": "code",
   "execution_count": null,
   "id": "69a20a6d-a7da-433a-8470-31269d66b1ef",
   "metadata": {},
   "outputs": [],
   "source": []
  }
 ],
 "metadata": {
  "kernelspec": {
   "display_name": "Python 3 (ipykernel)",
   "language": "python",
   "name": "python3"
  },
  "language_info": {
   "codemirror_mode": {
    "name": "ipython",
    "version": 3
   },
   "file_extension": ".py",
   "mimetype": "text/x-python",
   "name": "python",
   "nbconvert_exporter": "python",
   "pygments_lexer": "ipython3",
   "version": "3.12.7"
  }
 },
 "nbformat": 4,
 "nbformat_minor": 5
}
